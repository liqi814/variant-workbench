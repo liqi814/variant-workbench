﻿{
  "metadata": {
    "name": "VWB landscape paper final",
    "kernelspec": {
      "language": "scala",
      "name": "spark2-scala"
    },
    "language_info": {
      "codemirror_mode": "text/x-scala",
      "file_extension": ".scala",
      "mimetype": "text/x-scala",
      "name": "scala",
      "pygments_lexer": "scala"
    }
  },
  "nbformat": 4,
  "nbformat_minor": 2,
  "cells": [
    {
      "cell_type": "code",
      "execution_count": 0,
      "metadata": {
        "autoscroll": "auto"
      },
      "outputs": [],
      "source": "import org.apache.spark.sql.types.LongType\nimport org.apache.spark.sql.types.FloatType\nimport org.apache.spark.sql.types.DoubleType\nimport org.apache.spark.sql.types.BooleanType\n\ndef loadCustomTable(tableName:String) \u003d {\n    spark.read.parquet(myFile(s\"tables/$tableName\")).createOrReplaceTempView(tableName)\n}\ndef myFile(f:String) \u003d s\"s3a://kf-strides-variant-parquet-prd/notebooks/ad7a1e3b-f732-41c4-be11-f6938f4323e5/$f\"\n\nspark.read.option(\"sep\", \"\\t\").option(\"header\", \"true\")\n    .option(\"nullValue\", \".\")\n    .csv(myFile(\"hg38_HGMD2022Q3_variant.txt\"))\n    .withColumnRenamed(\"#Chr\", \"chromosome\")\n    .withColumn(\"chromosome\", regexp_replace($\"chromosome\", \"chr\", \"\"))\n    .withColumn(\"start\", $\"Start\".cast(LongType))\n    .withColumn(\"end\", $\"End\".cast(LongType))\n    .withColumnRenamed(\"Ref\", \"reference\")\n    .withColumnRenamed(\"Alt\", \"alternate\")\n    .withColumnRenamed(\"HGMD2022Q3_ID\", \"id\")\n    .withColumnRenamed(\"HGMD2022Q3_CLASS\", \"variant_class\")\n    .withColumnRenamed(\"HGMD2022Q3_MUT\", \"mut\")\n    .withColumnRenamed(\"HGMD2022Q3_GENE\", \"symbol\")\n    .withColumnRenamed(\"HGMD2022Q3_STRAND\", \"strand\")\n    .withColumnRenamed(\"HGMD2022Q3_DNA\", \"dna\")\n    .withColumnRenamed(\"HGMD2022Q3_PROT\", \"prot\")\n    .withColumnRenamed(\"HGMD2022Q3_DB\", \"db\")\n    .withColumnRenamed(\"HGMD2022Q3_PHEN\", \"phen\")\n    .withColumn(\"rankscore\", $\"HGMD2022Q3_RANKSCORE\".cast(FloatType))\n    .withColumn(\"variant_end\", $\"HGMD2022Q3_END\".cast(LongType))\n    .withColumn(\"svlen\", $\"HGMD2022Q3_SVLEN\".cast(LongType))\n    .coalesce(1)\n    .write.mode(\"overwrite\")\n    .parquet(myFile(s\"tables/hg38_HGMD2022Q3_variant\"))        \n\nspark.read.options(Map(\"inferSchema\"-\u003e\"true\",\"sep\"-\u003e\"\\t\",\"header\"-\u003e\"true\",\"nullValue\"-\u003e\".\"))\n    .csv(myFile(\"gencc-submissions_20220728.txt\"))\n    .coalesce(1)\n    .write.mode(\"overwrite\")\n    .parquet(myFile(s\"tables/gencc\"))   \n    \nloadCustomTable(\"hg38_HGMD2022Q3_variant\")\nloadCustomTable(\"gencc\")"
    },
    {
      "cell_type": "code",
      "execution_count": 1,
      "metadata": {
        "autoscroll": "auto"
      },
      "outputs": [],
      "source": "%pyspark\nfrom pyspark.sql import functions as F\nfrom pyspark.sql import SparkSession\nfrom pyspark.sql.types import *\ncond \u003d [\u0027chromosome\u0027, \u0027start\u0027, \u0027reference\u0027, \u0027alternate\u0027]\n\n# latest hgmd table\ntable_hgmd_variant \u003d spark.table(\u0027hg38_hgmd2022q3_variant\u0027).where(F.col(\u0027variant_class\u0027).contains(\"DM\"))\n# Table variants, added a column for max minor allele frequency among gnomAD and TOPMed databases\nc_vrt \u003d [\u0027max_gnomad_topmed\u0027, \u0027topmed\u0027, \u0027gnomad_genomes_2_1\u0027, \u0027gnomad_exomes_2_1\u0027, \u0027gnomad_genomes_3_0\u0027, \u0027gnomad_genomes_3_1_1\u0027]\ntable_variant \u003d spark.table(\u0027variants\u0027) \\\n                .withColumn(\u0027max_gnomad_topmed\u0027, F.greatest(F.lit(0), F.col(\u0027topmed\u0027)[\u0027af\u0027], F.col(\u0027gnomad_exomes_2_1\u0027)[\u0027af\u0027], \\\n                F.col(\u0027gnomad_genomes_2_1\u0027)[\u0027af\u0027], F.col(\u0027gnomad_genomes_3_0\u0027)[\u0027af\u0027], F.col(\u0027gnomad_genomes_3_1_1\u0027)[\u0027af\u0027])) \\\n                .where(F.col(\u0027max_gnomad_topmed\u0027) \u003c 0.0001) \\\n                .select(cond + c_vrt)\ntable_gencc \u003d spark.table(\u0027gencc\u0027).select([\u0027disease_original_curie\u0027, \u0027classification_title\u0027, \u0027gene_symbol\u0027, \u0027moi_title\u0027]) \\\n                .withColumnRenamed(\u0027gene_symbol\u0027, \u0027symbol\u0027) \\\n                .distinct()"
    },
    {
      "cell_type": "code",
      "execution_count": 2,
      "metadata": {
        "autoscroll": "auto"
      },
      "outputs": [],
      "source": "%pyspark\nfrom pyspark.sql.window import Window\nfrom pyspark.sql.functions import col, row_number, collect_list\n  \nGenCC_rank_data \u003d [(\u0027Definitive\u0027, 800), (\u0027Strong\u0027, 700), (\u0027Moderate\u0027, 600), (\u0027Supportive\u0027, 500), (\u0027Limited\u0027, 400), (\u0027Disputed Evidence\u0027, 300), (\u0027Refuted Evidence\u0027, 200), (\u0027No Known Disease Relationship\u0027, 100)]\nGenCC_rank \u003d spark.createDataFrame(GenCC_rank_data, [\u0027classification_title\u0027, \u0027Rank_score\u0027])\ntable_gencc \u003d table_gencc.join(GenCC_rank, \u0027classification_title\u0027,\"left\")\nwindowDept \u003d Window.partitionBy(\"symbol\").orderBy(col(\u0027Rank_score\u0027).desc())\ntable_gencc_simple \u003d table_gencc.withColumn(\"row\",row_number().over(windowDept)) \\\n                                .filter(col(\"row\") \u003d\u003d 1).select(\"classification_title\", \"symbol\")\ntable_gencc_highest \u003d table_gencc_simple.join(table_gencc, [\"classification_title\", \"symbol\"], \"left\") \\\n                                .drop(\u0027Rank_score\u0027).distinct().groupBy([\"moi_title\", \"symbol\"]) \\\n                                .agg(collect_list(\u0027disease_original_curie\u0027).alias(\u0027disease_original_curies\u0027))"
    },
    {
      "cell_type": "code",
      "execution_count": 3,
      "metadata": {
        "autoscroll": "auto"
      },
      "outputs": [],
      "source": "%pyspark\nt \u003d spark.sql(\u0027SELECT study_id, COUNT(*) FROM family_relationships GROUP BY study_id \u0027).withColumnRenamed(\u0027count(1)\u0027, \u0027count\u0027)\nfor study_id in t.select(\u0027study_id\u0027).toPandas()[\u0027study_id\u0027]:\n    table_ocr_pilot \u003d spark.table(\u0027occurrences\u0027).where((F.col(\u0027study_id\u0027) \u003d\u003d study_id) \u0026 (F.col(\u0027is_multi_allelic\u0027) \u003d\u003d \u0027false\u0027)).withColumn(\u0027VariantID\u0027, F.concat_ws(\u0027-\u0027, F.col(\u0027chromosome\u0027), F.col(\u0027start\u0027), F.col(\u0027reference\u0027), F.col(\u0027alternate\u0027), F.col(\u0027family_id\u0027)))\n    hom_variants_all \u003d table_ocr_pilot.where((F.col(\u0027is_proband\u0027) \u003d\u003d \u0027true\u0027) \u0026 (F.col(\u0027zygosity\u0027) \u003d\u003d \u0027HOM\u0027) \u0026 (F.col(\u0027mother_zygosity\u0027) \u003d\u003d \u0027HET\u0027) \u0026 (F.col(\u0027father_zygosity\u0027) \u003d\u003d \u0027HET\u0027))\n    denovo_variants_all \u003d table_ocr_pilot.where((F.col(\u0027is_proband\u0027) \u003d\u003d \u0027true\u0027) \u0026 (F.col(\u0027zygosity\u0027) !\u003d \u0027WT\u0027) \u0026 (F.col(\u0027mother_zygosity\u0027) \u003d\u003d \u0027WT\u0027) \u0026 (F.col(\u0027father_zygosity\u0027) \u003d\u003d \u0027WT\u0027))\n    hom_variants_hgmd \u003d hom_variants_all.join(table_hgmd_variant, cond).join(table_variant, cond).join(table_gencc_highest, \u0027symbol\u0027,\"left\")\n    denovo_variants_hgmd \u003d denovo_variants_all.join(table_hgmd_variant, cond).join(table_variant, cond).join(table_gencc_highest, \u0027symbol\u0027,\"left\")\n    project_path \u003d \"yiran/pnoc008-annovar-annotation/VWB_landscape_paper_output2\"\n    if hom_variants_hgmd.count() \u003e 0 :\n        hom_variants_hgmd.toPandas().to_csv(f\u0027~/cavatica/projects/{project_path}/{study_id}_homo_variants.tsv\u0027, sep\u003d\u0027\\t\u0027, index\u003dFalse, na_rep\u003d\u0027-\u0027)\n    if denovo_variants_hgmd.count() \u003e 0 :\n        denovo_variants_hgmd.toPandas().to_csv(f\u0027~/cavatica/projects/{project_path}/{study_id}_denovo_variants.tsv\u0027, sep\u003d\u0027\\t\u0027, index\u003dFalse, na_rep\u003d\u0027-\u0027)"
    },
    {
      "cell_type": "code",
      "execution_count": 4,
      "metadata": {
        "autoscroll": "auto"
      },
      "outputs": [],
      "source": "%sh\nls /home/notebook/cavatica/projects/yiran/pnoc008-annovar-annotation/VWB_landscape_paper_output2/"
    },
    {
      "cell_type": "raw",
      "metadata": {
        "format": "text/plain"
      },
      "source": "%sh\n"
    }
  ]
}