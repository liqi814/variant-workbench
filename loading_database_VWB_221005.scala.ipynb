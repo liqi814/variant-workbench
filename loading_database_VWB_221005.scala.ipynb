﻿{
  "metadata": {
    "name": "loading_database_VWB_221005.scala",
    "kernelspec": {
      "language": "scala",
      "name": "spark2-scala"
    },
    "language_info": {
      "codemirror_mode": "text/x-scala",
      "file_extension": ".scala",
      "mimetype": "text/x-scala",
      "name": "scala",
      "pygments_lexer": "scala"
    }
  },
  "nbformat": 4,
  "nbformat_minor": 2,
  "cells": [
    {
      "cell_type": "code",
      "execution_count": 0,
      "metadata": {
        "autoscroll": "auto"
      },
      "outputs": [],
      "source": "%sh\naws s3 cp ~/cavatica/projects/yiran/pnoc008-annovar-annotation/  s3://kf-strides-variant-parquet-prd/notebooks/ad7a1e3b-f732-41c4-be11-f6938f4323e5/ --recursive --exclude \"*\" --include \"hg38_HGMD2022Q3*txt\""
    },
    {
      "cell_type": "code",
      "execution_count": 1,
      "metadata": {
        "autoscroll": "auto"
      },
      "outputs": [],
      "source": "import org.apache.spark.sql.types.LongType\nimport org.apache.spark.sql.types.FloatType\nimport org.apache.spark.sql.types.DoubleType\nimport org.apache.spark.sql.types.BooleanType\n\ndef loadCustomTable(tableName:String) \u003d {\n    spark.read.parquet(myFile(s\"tables/$tableName\")).createOrReplaceTempView(tableName)\n}\ndef myFile(f:String) \u003d s\"s3a://kf-strides-variant-parquet-prd/notebooks/ad7a1e3b-f732-41c4-be11-f6938f4323e5/$f\""
    },
    {
      "cell_type": "code",
      "execution_count": 2,
      "metadata": {
        "autoscroll": "auto"
      },
      "outputs": [],
      "source": "// # %sh\n// # head ~/cavatica/projects/yiran/pnoc008-annovar-annotation/hg38_HGMD2022Q3_gene_lite.VWB.txt\n\nspark.read.option(\"sep\", \"\\t\")\n    .option(\"header\", \"true\")\n    .csv(myFile(\"hg38_HGMD2022Q3_gene_lite.txt\"))\n    .withColumnRenamed(\"Chr\", \"chromosome\")\n    .withColumn(\"chromosome\", regexp_replace($\"chromosome\", \"chr\", \"\"))\n    .withColumn(\"start\", $\"Start\".cast(LongType))\n    .withColumn(\"end\", $\"End\".cast(LongType))\n    .withColumn(\"split_c0\",split($\"#EntrezGeneID_GeneSymbol\", \"_\"))\n    .withColumn(\"entrez_gene_id\",$\"split_c0\"(0))\n    .withColumn(\"symbol\",$\"split_c0\"(1))\n    .withColumn(\"variant_class\",split($\"Phenotypes\", \",\"))\n    .drop(\"Chr\", \"Phenotypes\", \"split_c0\", \"#EntrezGeneID_GeneSymbol\")\n    .coalesce(1)\n    .write.mode(\"overwrite\")\n    .parquet(myFile(s\"tables/hg38_HGMD2022Q3_gene_lite\"))\n    \nloadCustomTable(\"hg38_HGMD2022Q3_gene_lite\")\n\n// %sql\n// SELECT * FROM hg38_HGMD2022Q3_gene_lite LIMIT 5"
    },
    {
      "cell_type": "code",
      "execution_count": 3,
      "metadata": {
        "autoscroll": "auto"
      },
      "outputs": [],
      "source": "// %sh\n// head ~/cavatica/projects/yiran/pnoc008-annovar-annotation/hg38_HGMD2022Q3_gene_sorted.VWB.txt\n\nspark.read.option(\"sep\", \"\\t\")\n    .option(\"header\", \"true\")\n    .csv(myFile(\"hg38_HGMD2022Q3_gene_sorted.txt\"))\n    .withColumnRenamed(\"Chr\", \"chromosome\")\n    .withColumn(\"chromosome\", regexp_replace($\"chromosome\", \"chr\", \"\"))\n    .withColumn(\"start\", $\"Start\".cast(LongType))\n    .withColumn(\"end\", $\"End\".cast(LongType))\n    .withColumn(\"split_c0\",split($\"#EntrezGeneID_GeneSymbol\", \"_\"))\n    .withColumn(\"entrez_gene_id\",$\"split_c0\"(0))\n    .withColumn(\"symbol\",$\"split_c0\"(1))\n    .withColumn(\"split_c4\",split($\"Phenotypes\", \"~\"))\n    .withColumn(\"DM\", split(regexp_extract($\"split_c4\"(0), \"^DM\\\\[([^\\\\]]*)?\\\\]?\", 1), \",\"))\n    .withColumn(\"DM?\", split(regexp_extract($\"split_c4\"(1), \"^DM\\\\?\\\\[([^\\\\]]*)?\\\\]?\", 1), \",\"))\n    .withColumn(\"DP\", split(regexp_extract($\"split_c4\"(2), \"^DP\\\\[([^\\\\]]*)?\\\\]?\", 1), \",\"))\n    .withColumn(\"DFP\", split(regexp_extract($\"split_c4\"(3), \"^DFP\\\\[([^\\\\]]*)?\\\\]?\", 1), \",\"))\n    .withColumn(\"FP\", split(regexp_extract($\"split_c4\"(4), \"^FP\\\\[([^\\\\]]*)?\\\\]?\", 1), \",\"))\n    .withColumn(\"R\", split(regexp_extract($\"split_c4\"(5), \"^R\\\\[([^\\\\]]*)?\\\\]?\", 1), \",\"))\n    .drop(\"Chr\", \"Phenotypes\", \"split_c0\", \"#EntrezGeneID_GeneSymbol\", \"split_c4\")\n    .coalesce(1)\n    .write.mode(\"overwrite\")\n    .parquet(myFile(s\"tables/hg38_HGMD2022Q3_gene_sorted\")) \n\nloadCustomTable(\"hg38_HGMD2022Q3_gene_sorted\")\n\n// %sql\n// SELECT * FROM hg38_HGMD2022Q3_gene_sorted LIMIT 5"
    },
    {
      "cell_type": "code",
      "execution_count": 4,
      "metadata": {
        "autoscroll": "auto"
      },
      "outputs": [],
      "source": "spark.read.option(\"sep\", \"\\t\").option(\"header\", \"true\")\n    .option(\"nullValue\", \".\")\n    .csv(myFile(\"hg38_HGMD2022Q3_variant.txt\"))\n    .withColumnRenamed(\"#Chr\", \"chromosome\")\n    .withColumn(\"chromosome\", regexp_replace($\"chromosome\", \"chr\", \"\"))\n    .withColumn(\"start\", $\"Start\".cast(LongType))\n    .withColumn(\"end\", $\"End\".cast(LongType))\n    .withColumnRenamed(\"Ref\", \"reference\")\n    .withColumnRenamed(\"Alt\", \"alternate\")\n    .withColumnRenamed(\"HGMD2022Q3_ID\", \"id\")\n    .withColumnRenamed(\"HGMD2022Q3_CLASS\", \"variant_class\")\n    .withColumnRenamed(\"HGMD2022Q3_MUT\", \"mut\")\n    .withColumnRenamed(\"HGMD2022Q3_GENE\", \"symbol\")\n    .withColumnRenamed(\"HGMD2022Q3_STRAND\", \"strand\")\n    .withColumnRenamed(\"HGMD2022Q3_DNA\", \"dna\")\n    .withColumnRenamed(\"HGMD2022Q3_PROT\", \"prot\")\n    .withColumnRenamed(\"HGMD2022Q3_DB\", \"db\")\n    .withColumnRenamed(\"HGMD2022Q3_PHEN\", \"phen\")\n    .withColumn(\"rankscore\", $\"HGMD2022Q3_RANKSCORE\".cast(FloatType))\n    .withColumn(\"variant_end\", $\"HGMD2022Q3_END\".cast(LongType))\n    .withColumn(\"svlen\", $\"HGMD2022Q3_SVLEN\".cast(LongType))\n    .coalesce(1)\n    .write.mode(\"overwrite\")\n    .parquet(myFile(s\"tables/hg38_HGMD2022Q3_variant\"))        \n\nloadCustomTable(\"hg38_HGMD2022Q3_variant\")"
    }
  ]
}