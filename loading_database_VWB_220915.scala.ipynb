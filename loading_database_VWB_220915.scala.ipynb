﻿{
  "metadata": {
    "name": "loading_database_VWB_220915.scala",
    "kernelspec": {
      "language": "scala",
      "name": "spark2-scala"
    },
    "language_info": {
      "codemirror_mode": "text/x-scala",
      "file_extension": ".scala",
      "mimetype": "text/x-scala",
      "name": "scala",
      "pygments_lexer": "scala"
    }
  },
  "nbformat": 4,
  "nbformat_minor": 2,
  "cells": [
    {
      "cell_type": "code",
      "execution_count": 0,
      "metadata": {
        "autoscroll": "auto"
      },
      "outputs": [],
      "source": "%sh \n# aws s3 cp ~/cavatica/projects/yiran/pnoc008-annovar-annotation/spcards_SplicingVariant.hg38.txt s3://kf-strides-variant-parquet-prd/notebooks/ad7a1e3b-f732-41c4-be11-f6938f4323e5/\n# aws s3 cp ~/cavatica/projects/yiran/pnoc008-annovar-annotation/dbNSFP4.3a_variant.chr.all.gz s3://kf-strides-variant-parquet-prd/notebooks/ad7a1e3b-f732-41c4-be11-f6938f4323e5/\n# aws s3 cp ~/cavatica/projects/yiran/pnoc008-annovar-annotation/dbNSFP4.3_gene.gz s3://kf-strides-variant-parquet-prd/notebooks/ad7a1e3b-f732-41c4-be11-f6938f4323e5/\n# aws s3 cp ~/cavatica/projects/yiran/pnoc008-annovar-annotation/hg38_varity.txt.VWB.gz s3://kf-strides-variant-parquet-prd/notebooks/ad7a1e3b-f732-41c4-be11-f6938f4323e5/\n# aws s3 cp ~/cavatica/projects/yiran/pnoc008-annovar-annotation/hg38_gene4denovo201907.txt.gz s3://kf-strides-variant-parquet-prd/notebooks/ad7a1e3b-f732-41c4-be11-f6938f4323e5/\n# aws s3 cp ~/cavatica/projects/yiran/pnoc008-annovar-annotation/gnomAD_LOEUF_HomKo.txt.VWB s3://kf-strides-variant-parquet-prd/notebooks/ad7a1e3b-f732-41c4-be11-f6938f4323e5/\n# aws s3 cp ~/cavatica/projects/yiran/pnoc008-annovar-annotation/hg38_gnomAD_pext.txt.gz s3://kf-strides-variant-parquet-prd/notebooks/ad7a1e3b-f732-41c4-be11-f6938f4323e5/\n# aws s3 cp ~/cavatica/projects/yiran/pnoc008-annovar-annotation/InterVar_20210731.txt.VWB.gz s3://kf-strides-variant-parquet-prd/notebooks/ad7a1e3b-f732-41c4-be11-f6938f4323e5/\naws s3 cp ~/cavatica/projects/yiran/pnoc008-annovar-annotation/dbNSFP4.3a_variant.all.chr.txt.gz s3://kf-strides-variant-parquet-prd/notebooks/ad7a1e3b-f732-41c4-be11-f6938f4323e5/"
    },
    {
      "cell_type": "code",
      "execution_count": 1,
      "metadata": {
        "autoscroll": "auto"
      },
      "outputs": [],
      "source": "import org.apache.spark.sql.types.LongType\nimport org.apache.spark.sql.types.FloatType\nimport org.apache.spark.sql.types.DoubleType\nimport org.apache.spark.sql.types.IntegerType\nimport org.apache.spark.sql.types.BooleanType\n\ndef loadCustomTable(tableName:String) \u003d {\n    spark.read.parquet(myFile(s\"tables/$tableName\")).createOrReplaceTempView(tableName)\n}\ndef myFile(f:String) \u003d s\"s3a://kf-strides-variant-parquet-prd/notebooks/ad7a1e3b-f732-41c4-be11-f6938f4323e5/$f\""
    },
    {
      "cell_type": "code",
      "execution_count": 2,
      "metadata": {
        "autoscroll": "auto"
      },
      "outputs": [],
      "source": "spark.read.options(Map(\"inferSchema\"-\u003e\"true\",\"sep\"-\u003e\"\\t\",\"header\"-\u003e\"true\",\"nullValue\"-\u003e\".\"))\n    .csv(myFile(\"spcards_SplicingVariant.hg38.txt\"))\n    .withColumn(\"chromosome\", regexp_replace($\"Chr\", \"chr\", \"\"))\n    .withColumn(\"start\", $\"Start\".cast(LongType))\n    .withColumn(\"end\", $\"End\".cast(LongType))\n    .withColumnRenamed(\"Ref\", \"reference\")\n    .withColumnRenamed(\"Alt\", \"alternate\")\n    .withColumn(\"In_exon\", $\"In_exon\".cast(BooleanType))\n    .withColumn(\"Classical_splicing_variant\", $\"Classical_splicing_variant\".cast(BooleanType))\n    .drop(\"Chr\")\n    .coalesce(1)\n    .write.mode(\"overwrite\")\n    .parquet(myFile(s\"tables/spcards\"))   \n    \nloadCustomTable(\"spcards\")"
    },
    {
      "cell_type": "code",
      "execution_count": 3,
      "metadata": {
        "autoscroll": "auto"
      },
      "outputs": [],
      "source": "val dbNSFP_variant \u003d spark.read.options(Map(\"inferSchema\"-\u003e\"true\",\"sep\"-\u003e\"\\t\",\"header\"-\u003e\"true\",\"nullValue\"-\u003e\".\"))\n        .csv(myFile(\"dbNSFP4.3a_variant.all.chr.txt.gz\"))\n\ndbNSFP_variant.select(\n          dbNSFP_variant.columns\n            .map(colName \u003d\u003e col(s\"`${colName}`\").as(colName.replaceAll(\"\\\\(\", \"[\").replaceAll(\" \", \"_\").replaceAll(\"\\\\)\", \"]\"))): _*\n        )\n        .withColumnRenamed(\"#chr\", \"chromosome\")\n        .withColumn(\"pos[1-based]\", $\"pos[1-based]\".cast(LongType))\n        .withColumnRenamed(\"pos[1-based]\", \"start\")\n        .withColumnRenamed(\"ref\", \"reference\")\n        .withColumnRenamed(\"alt\", \"alternate\")\n        .coalesce(1)\n        .write.mode(\"overwrite\")\n        .parquet(myFile(s\"tables/dbNSFP_variant\"))   \n    \nloadCustomTable(\"dbNSFP_variant\")"
    },
    {
      "cell_type": "code",
      "execution_count": 4,
      "metadata": {
        "autoscroll": "auto"
      },
      "outputs": [],
      "source": "%sql\nselect * from dbNSFP_variant\nlimit 10"
    },
    {
      "cell_type": "code",
      "execution_count": 5,
      "metadata": {
        "autoscroll": "auto"
      },
      "outputs": [],
      "source": "%sql\ndescribe dbNSFP_variant"
    },
    {
      "cell_type": "code",
      "execution_count": 6,
      "metadata": {
        "autoscroll": "auto"
      },
      "outputs": [],
      "source": "val dbNSFP_gene \u003d spark.read.options(Map(\"inferSchema\"-\u003e\"true\",\"sep\"-\u003e\"\\t\",\"header\"-\u003e\"true\",\"nullValue\"-\u003e\".\"))\n        .csv(myFile(\"dbNSFP4.3_gene.gz\"))\n        .withColumnRenamed(\"chr\", \"chromosome\")\ndbNSFP_gene.select(\n          dbNSFP_gene.columns\n            .map(colName \u003d\u003e col(s\"`${colName}`\").as(colName.replaceAll(\"\\\\(\", \"[\").replaceAll(\" \", \"_\").replaceAll(\"\\\\)\", \"]\"))): _*\n        )\n        .coalesce(1)\n        .write.mode(\"overwrite\")\n        .parquet(myFile(s\"tables/dbNSFP_gene\"))   \n    \nloadCustomTable(\"dbNSFP_gene\")"
    },
    {
      "cell_type": "code",
      "execution_count": 7,
      "metadata": {
        "autoscroll": "auto"
      },
      "outputs": [],
      "source": "spark.read.options(Map(\"inferSchema\"-\u003e\"true\",\"sep\"-\u003e\"\\t\",\"header\"-\u003e\"true\",\"nullValue\"-\u003e\".\"))\n    .csv(myFile(\"hg38_varity.txt.VWB.gz\"))\n    .withColumnRenamed(\"chr\", \"chromosome\")\n    .withColumn(\"start\", $\"start\".cast(LongType))\n    .withColumn(\"end\", $\"end\".cast(LongType))\n    .coalesce(1)\n    .write.mode(\"overwrite\")\n    .parquet(myFile(s\"tables/VARITY\"))   \n    \nloadCustomTable(\"VARITY\")"
    },
    {
      "cell_type": "code",
      "execution_count": 8,
      "metadata": {
        "autoscroll": "auto"
      },
      "outputs": [],
      "source": "spark.read.options(Map(\"inferSchema\"-\u003e\"true\",\"sep\"-\u003e\"\\t\",\"header\"-\u003e\"true\",\"nullValue\"-\u003e\".\"))\n    .csv(myFile(\"hg38_gene4denovo201907.txt.gz\"))\n    .withColumn(\"#CHROM\", regexp_replace($\"#CHROM\", \"chr\", \"\"))\n    .withColumn(\"POS\", $\"POS\".cast(LongType))\n    .withColumnRenamed(\"#CHROM\", \"chromosome\")\n    .withColumnRenamed(\"POS\", \"start\")\n    .coalesce(1)\n    .write.mode(\"overwrite\")\n    .parquet(myFile(s\"tables/gene4denovo\"))   \n    \nloadCustomTable(\"gene4denovo\")"
    },
    {
      "cell_type": "code",
      "execution_count": 9,
      "metadata": {
        "autoscroll": "auto"
      },
      "outputs": [],
      "source": "spark.read.options(Map(\"inferSchema\"-\u003e\"true\",\"sep\"-\u003e\"\\t\",\"header\"-\u003e\"true\",\"nullValue\"-\u003e\".\"))\n    .csv(myFile(\"gnomAD_LOEUF_HomKo.txt.VWB\"))\n    .withColumn(\"start\", $\"start\".cast(LongType))\n    .withColumn(\"end\", $\"end\".cast(LongType))\n    .withColumn(\"LOEUF\", $\"LOEUF\".cast(FloatType))\n    .withColumn(\"Bin\", $\"Bin\".cast(IntegerType))\n    .withColumn(\"pLI\", $\"pLI\".cast(FloatType))\n    .coalesce(1)\n    .write.mode(\"overwrite\")\n    .parquet(myFile(s\"tables/gnomAD_LOEUF_HomKo\"))   \n    \nloadCustomTable(\"gnomAD_LOEUF_HomKo\")"
    },
    {
      "cell_type": "code",
      "execution_count": 10,
      "metadata": {
        "autoscroll": "auto"
      },
      "outputs": [],
      "source": "spark.read.options(Map(\"inferSchema\"-\u003e\"true\",\"sep\"-\u003e\"\\t\",\"header\"-\u003e\"true\",\"nullValue\"-\u003e\".\"))\n    .csv(myFile(\"hg38_gnomAD_pext.txt.gz\"))\n    .withColumn(\"#Chr\", regexp_replace($\"#Chr\", \"chr\", \"\"))\n    .withColumnRenamed(\"#Chr\", \"chromosome\")\n    .withColumn(\"start\", $\"Start\".cast(LongType))\n    .withColumn(\"end\", $\"End\".cast(LongType))\n    .withColumnRenamed(\"Ref\", \"reference\")\n    .withColumnRenamed(\"Alt\", \"alternate\")\n    .coalesce(1)\n    .write.mode(\"overwrite\")\n    .parquet(myFile(s\"tables/hg38_gnomAD_pext\"))   \n    \nloadCustomTable(\"hg38_gnomAD_pext\")"
    },
    {
      "cell_type": "code",
      "execution_count": 11,
      "metadata": {
        "autoscroll": "auto"
      },
      "outputs": [],
      "source": "spark.read.options(Map(\"inferSchema\"-\u003e\"true\",\"sep\"-\u003e\"\\t\",\"header\"-\u003e\"true\",\"nullValue\"-\u003e\".\"))\n    .csv(myFile(\"InterVar_20210731.txt.VWB.gz\"))\n    .withColumn(\"start\", $\"start\".cast(LongType))\n    .withColumn(\"end\", $\"end\".cast(LongType))\n    .coalesce(1)\n    .write.mode(\"overwrite\")\n    .parquet(myFile(s\"tables/InterVar\"))   \n    \nloadCustomTable(\"InterVar\")"
    },
    {
      "cell_type": "code",
      "execution_count": 12,
      "metadata": {
        "autoscroll": "auto"
      },
      "outputs": [],
      "source": "%sh\ncd ~/cavatica/projects/yiran/pnoc008-annovar-annotation/\ntar -zxvf COSMIC_v96.tar.gz\naws s3 cp ~/cavatica/projects/yiran/pnoc008-annovar-annotation/CancerGeneCensus_all_20220718.tsv.VWB s3://kf-strides-variant-parquet-prd/notebooks/ad7a1e3b-f732-41c4-be11-f6938f4323e5/\naws s3 cp ~/cavatica/projects/yiran/pnoc008-annovar-annotation/  s3://kf-strides-variant-parquet-prd/notebooks/ad7a1e3b-f732-41c4-be11-f6938f4323e5/ --recursive --exclude \"*\" --include \"hg38_cosmic96_*coding.txt.VWB\""
    },
    {
      "cell_type": "code",
      "execution_count": 13,
      "metadata": {
        "autoscroll": "auto"
      },
      "outputs": [],
      "source": "spark.read.options(Map(\"inferSchema\"-\u003e\"true\",\"sep\"-\u003e\"\\t\",\"header\"-\u003e\"true\",\"nullValue\"-\u003e\".\"))\n    .csv(myFile(\"CancerGeneCensus_all_20220718.tsv.VWB\"))\n    .withColumn(\"Start\", $\"Start\".cast(LongType))\n    .withColumn(\"End\", $\"End\".cast(LongType))\n    .withColumnRenamed(\"Chromosome\", \"chromosome\")\n    .withColumnRenamed(\"Start\", \"start\")\n    .withColumnRenamed(\"End\", \"end\")\n    .coalesce(1)\n    .write.mode(\"overwrite\")\n    .parquet(myFile(s\"tables/COSMIC_CancerGeneCensus\"))   \n    \nloadCustomTable(\"COSMIC_CancerGeneCensus\")\n"
    },
    {
      "cell_type": "code",
      "execution_count": 14,
      "metadata": {
        "autoscroll": "auto"
      },
      "outputs": [],
      "source": "spark.read.options(Map(\"inferSchema\"-\u003e\"true\",\"sep\"-\u003e\"\\t\",\"header\"-\u003e\"true\",\"nullValue\"-\u003e\".\"))\n    .csv(myFile(\"hg38_cosmic96_coding.txt.VWB\"))\n    .withColumn(\"start\", $\"start\".cast(LongType))\n    .withColumn(\"end\", $\"end\".cast(LongType))\n    .coalesce(1)\n    .write.mode(\"overwrite\")\n    .parquet(myFile(s\"tables/COSMIC_coding\"))   \n    \nloadCustomTable(\"COSMIC_coding\")"
    },
    {
      "cell_type": "code",
      "execution_count": 15,
      "metadata": {
        "autoscroll": "auto"
      },
      "outputs": [],
      "source": "spark.read.options(Map(\"inferSchema\"-\u003e\"true\",\"sep\"-\u003e\"\\t\",\"header\"-\u003e\"true\",\"nullValue\"-\u003e\".\"))\n    .csv(myFile(\"hg38_cosmic96_noncoding.txt.VWB\"))\n    .withColumn(\"start\", $\"start\".cast(LongType))\n    .withColumn(\"end\", $\"end\".cast(LongType))\n    .coalesce(1)\n    .write.mode(\"overwrite\")\n    .parquet(myFile(s\"tables/COSMIC_noncoding\"))   \n    \nloadCustomTable(\"COSMIC_noncoding\")"
    }
  ]
}