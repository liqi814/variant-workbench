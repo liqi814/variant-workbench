﻿{
  "metadata": {
    "name": "loading_database_VWB_220831.scala",
    "kernelspec": {
      "language": "scala",
      "name": "spark2-scala"
    },
    "language_info": {
      "codemirror_mode": "text/x-scala",
      "file_extension": ".scala",
      "mimetype": "text/x-scala",
      "name": "scala",
      "pygments_lexer": "scala"
    }
  },
  "nbformat": 4,
  "nbformat_minor": 2,
  "cells": [
    {
      "cell_type": "code",
      "execution_count": 0,
      "metadata": {
        "autoscroll": "auto"
      },
      "outputs": [],
      "source": "import org.apache.spark.sql.types.LongType\nimport org.apache.spark.sql.types.FloatType\nimport org.apache.spark.sql.types.DoubleType\nimport org.apache.spark.sql.types.BooleanType\nimport org.apache.spark.sql.types.IntegerType\n\ndef loadCustomTable(tableName:String) \u003d {\n    spark.read.parquet(myFile(s\"tables/$tableName\")).createOrReplaceTempView(tableName)\n}\ndef myFile(f:String) \u003d s\"s3a://kf-strides-variant-parquet-prd/notebooks/ad7a1e3b-f732-41c4-be11-f6938f4323e5/$f\""
    },
    {
      "cell_type": "code",
      "execution_count": 1,
      "metadata": {
        "autoscroll": "auto"
      },
      "outputs": [],
      "source": "spark.read.option(\"sep\", \"\\t\")\n    .option(\"header\", \"true\")\n    .csv(myFile(\"hg38_HGMD2022Q2_gene_lite.VWB.txt\"))\n    .withColumnRenamed(\"Chr\", \"chromosome\")\n    .withColumn(\"start\", $\"Start\".cast(LongType))\n    .withColumn(\"end\", $\"End\".cast(LongType))\n    .withColumn(\"split_c0\",split($\"#EntrezGeneID_GeneSymbol\", \"_\"))\n    .withColumn(\"entrez_gene_id\",$\"split_c0\"(0))\n    .withColumn(\"symbol\",$\"split_c0\"(1))\n    .withColumn(\"variant_class\",split($\"Phenotypes\", \",\"))\n    .drop(\"Chr\", \"Phenotypes\", \"split_c0\", \"#EntrezGeneID_GeneSymbol\")\n    .coalesce(1)\n    .write.mode(\"overwrite\")\n    .parquet(myFile(s\"tables/hg38_HGMD2022Q2_gene_lite\"))\n    \nloadCustomTable(\"hg38_HGMD2022Q2_gene_lite\")"
    },
    {
      "cell_type": "code",
      "execution_count": 2,
      "metadata": {
        "autoscroll": "auto"
      },
      "outputs": [],
      "source": "spark.read.option(\"sep\", \"\\t\")\n    .option(\"header\", \"true\")\n    .csv(myFile(\"hg38_HGMD2022Q2_gene_sorted.VWB.txt\"))\n    .withColumnRenamed(\"Chr\", \"chromosome\")\n    .withColumn(\"start\", $\"Start\".cast(LongType))\n    .withColumn(\"end\", $\"End\".cast(LongType))\n    .withColumn(\"split_c0\",split($\"#EntrezGeneID_GeneSymbol\", \"_\"))\n    .withColumn(\"entrez_gene_id\",$\"split_c0\"(0))\n    .withColumn(\"symbol\",$\"split_c0\"(1))\n    .withColumn(\"split_c4\",split($\"Phenotypes\", \"~\"))\n    .withColumn(\"DM\", split(regexp_extract($\"split_c4\"(0), \"^DM\\\\[([^\\\\]]*)?\\\\]?\", 1), \",\"))\n    .withColumn(\"DM?\", split(regexp_extract($\"split_c4\"(1), \"^DM\\\\?\\\\[([^\\\\]]*)?\\\\]?\", 1), \",\"))\n    .withColumn(\"DP\", split(regexp_extract($\"split_c4\"(2), \"^DP\\\\[([^\\\\]]*)?\\\\]?\", 1), \",\"))\n    .withColumn(\"DFP\", split(regexp_extract($\"split_c4\"(3), \"^DFP\\\\[([^\\\\]]*)?\\\\]?\", 1), \",\"))\n    .withColumn(\"FP\", split(regexp_extract($\"split_c4\"(4), \"^FP\\\\[([^\\\\]]*)?\\\\]?\", 1), \",\"))\n    .withColumn(\"R\", split(regexp_extract($\"split_c4\"(5), \"^R\\\\[([^\\\\]]*)?\\\\]?\", 1), \",\"))\n    .drop(\"Chr\", \"Phenotypes\", \"split_c0\", \"#EntrezGeneID_GeneSymbol\", \"split_c4\")\n    .coalesce(1)\n    .write.mode(\"overwrite\")\n    .parquet(myFile(s\"tables/hg38_HGMD2022Q2_gene_sorted\")) \n\nloadCustomTable(\"hg38_HGMD2022Q2_gene_sorted\")"
    },
    {
      "cell_type": "code",
      "execution_count": 3,
      "metadata": {
        "autoscroll": "auto"
      },
      "outputs": [],
      "source": "spark.read.option(\"sep\", \"\\t\").option(\"header\", \"true\")\n    .option(\"nullValue\", \".\")\n    .csv(myFile(\"hg38_HGMD2022Q2_variant.VWB.txt\"))\n    .withColumnRenamed(\"#Chr\", \"chromosome\")\n    .withColumn(\"start\", $\"Start\".cast(LongType))\n    .withColumn(\"end\", $\"End\".cast(LongType))\n    .withColumnRenamed(\"Ref\", \"reference\")\n    .withColumnRenamed(\"Alt\", \"alternate\")\n    .withColumnRenamed(\"HGMD2022Q2_ID\", \"id\")\n    .withColumnRenamed(\"HGMD2022Q2_CLASS\", \"variant_class\")\n    .withColumnRenamed(\"HGMD2022Q2_MUT\", \"mut\")\n    .withColumnRenamed(\"HGMD2022Q2_GENE\", \"symbol\")\n    .withColumnRenamed(\"HGMD2022Q2_STRAND\", \"strand\")\n    .withColumnRenamed(\"HGMD2022Q2_DNA\", \"dna\")\n    .withColumnRenamed(\"HGMD2022Q2_PROT\", \"prot\")\n    .withColumnRenamed(\"HGMD2022Q2_DB\", \"db\")\n    .withColumnRenamed(\"HGMD2022Q2_PHEN\", \"phen\")\n    .withColumnRenamed(\"HGMD2022Q2_RANKSCORE\", \"rankscore\")\n    .withColumnRenamed(\"HGMD2022Q2_END\", \"variant_end\")\n    .withColumnRenamed(\"HGMD2022Q2_SVLEN\", \"svlen\")\n    .withColumnRenamed(\"HGMD2022Q2_SVTYPE\", \"svtype\")\n    .withColumn(\"dna\", regexp_replace($\"dna\", \"%3A\", \":\"))\n    .withColumn(\"prot\", regexp_replace($\"prot\", \"%3A\", \":\"))\n    .withColumn(\"prot\", regexp_replace($\"prot\", \"%3B\", \";\"))\n    .withColumn(\"prot\", regexp_replace($\"prot\", \"%3D\", \"\u003d\"))\n    .withColumn(\"phen\", regexp_replace($\"phen\", \"%2C\", \",\"))\n    .withColumn(\"rankscore\", $\"rankscore\".cast(FloatType))\n    .withColumn(\"variant_end\", $\"variant_end\".cast(LongType))\n    .withColumn(\"svlen\", $\"svlen\".cast(LongType))\n    .coalesce(1)\n    .write.mode(\"overwrite\")\n    .parquet(myFile(s\"tables/hg38_HGMD2022Q2_variant\"))        \n\nloadCustomTable(\"hg38_HGMD2022Q2_variant\")"
    },
    {
      "cell_type": "code",
      "execution_count": 4,
      "metadata": {
        "autoscroll": "auto"
      },
      "outputs": [],
      "source": "spark.read.option(\"sep\", \"\\t\").option(\"header\", \"true\")\n    .option(\"nullValue\", \".\")\n    .csv(myFile(\"hg38_regsnpintron.txt.gz\"))\n    .withColumnRenamed(\"#Chr\", \"chromosome\")\n    .withColumn(\"start\", $\"Start\".cast(LongType))\n    .withColumn(\"end\", $\"End\".cast(LongType))\n    .withColumnRenamed(\"Ref\", \"reference\")\n    .withColumnRenamed(\"Alt\", \"alternate\")\n    .withColumn(\"fpr\", $\"regsnp_fpr\".cast(DoubleType))\n    .withColumnRenamed(\"regsnp_disease\", \"disease\")\n    .withColumn(\"regsnp_splicing_site\", regexp_replace($\"regsnp_splicing_site\", \"off\", \"false\"))\n    .withColumn(\"regsnp_splicing_site\", regexp_replace($\"regsnp_splicing_site\", \"on\", \"true\"))\n    .withColumn(\"splicing_site\", $\"regsnp_splicing_site\".cast(BooleanType))\n    .coalesce(1)\n    .drop(\"regsnp_fpr\", \"regsnp_splicing_site\")\n    .write.mode(\"overwrite\")\n    .parquet(myFile(s\"tables/hg38_regsnpintron\"))   \n    \nloadCustomTable(\"hg38_regsnpintron\")"
    },
    {
      "cell_type": "code",
      "execution_count": 5,
      "metadata": {
        "autoscroll": "auto"
      },
      "outputs": [],
      "source": "spark.read.option(\"sep\", \"\\t\").option(\"header\", \"true\")\n    .option(\"nullValue\", \".\")\n    .csv(myFile(\"hg38_dbscsnv11.txt.gz\"))\n    .withColumnRenamed(\"#Chr\", \"chromosome\")\n    .withColumn(\"start\", $\"Start\".cast(LongType))\n    .withColumn(\"end\", $\"End\".cast(LongType))\n    .withColumnRenamed(\"Ref\", \"reference\")\n    .withColumnRenamed(\"Alt\", \"alternate\")\n    .withColumn(\"ada_score\", $\"dbscSNV_ADA_SCORE\".cast(FloatType))\n    .withColumn(\"rf_score\", $\"dbscSNV_RF_SCORE\".cast(FloatType))\n    .coalesce(1)\n    .drop(\"dbscSNV_ADA_SCORE\", \"dbscSNV_RF_SCORE\")\n    .write.mode(\"overwrite\")\n    .parquet(myFile(s\"tables/hg38_dbscsnv11\"))   \n    \nloadCustomTable(\"hg38_dbscsnv11\")"
    },
    {
      "cell_type": "code",
      "execution_count": 6,
      "metadata": {
        "autoscroll": "auto"
      },
      "outputs": [],
      "source": "spark.read.option(\"sep\", \"\\t\").option(\"header\", \"true\")\n    .option(\"nullValue\", \".\")\n    .csv(myFile(\"hg38_spidexv1.0.txt.gz\"))\n    .withColumn(\"chromosome\", regexp_replace($\"#Chr\", \"chr\", \"\"))\n    .withColumn(\"start\", $\"Start\".cast(LongType))\n    .withColumn(\"end\", $\"End\".cast(LongType))\n    .withColumnRenamed(\"Ref\", \"reference\")\n    .withColumnRenamed(\"Alt\", \"alternate\")\n    .withColumn(\"dpsi_max_tissue\", $\"dpsi_max_tissue\".cast(FloatType))\n    .withColumn(\"dpsi_zscore\", $\"dpsi_zscore\".cast(FloatType))\n    .select(\"chromosome\",\"start\",\"end\",\"reference\",\"alternate\",\"dpsi_max_tissue\",\"dpsi_zscore\")\n    .coalesce(1)\n    .drop(\"#Chr\")\n    .write.mode(\"overwrite\")\n    .parquet(myFile(s\"tables/hg38_spidex\")) \n    \nloadCustomTable(\"hg38_spidex\")"
    },
    {
      "cell_type": "code",
      "execution_count": 7,
      "metadata": {
        "autoscroll": "auto"
      },
      "outputs": [],
      "source": "spark.read.option(\"sep\", \"\\t\").option(\"header\", \"true\")\n    .option(\"nullValue\", \".\")\n    .csv(myFile(\"hg38_SpliceAIv1.3.txt.gz\"))\n    .withColumn(\"#Chr\", regexp_replace($\"#Chr\", \"chr\", \"\"))\n    .withColumn(\"start\", $\"Start\".cast(LongType))\n    .withColumn(\"end\", $\"End\".cast(LongType))\n    .withColumnRenamed(\"#Chr\", \"chromosome\")\n    .withColumnRenamed(\"Ref\", \"reference\")\n    .withColumnRenamed(\"Alt\", \"alternate\")\n    .withColumn(\"SpliceAI_DS_AG\", $\"SpliceAI_DS_AG\".cast(FloatType))\n    .withColumn(\"SpliceAI_DS_AL\", $\"SpliceAI_DS_AL\".cast(FloatType))\n    .withColumn(\"SpliceAI_DS_DG\", $\"SpliceAI_DS_DG\".cast(FloatType))\n    .withColumn(\"SpliceAI_DS_DL\", $\"SpliceAI_DS_DL\".cast(FloatType))\n    .coalesce(1)\n    .write.mode(\"overwrite\")\n    .parquet(myFile(s\"tables/hg38_SpliceAI\"))   \n    \nloadCustomTable(\"hg38_SpliceAI\")"
    },
    {
      "cell_type": "code",
      "execution_count": 8,
      "metadata": {
        "autoscroll": "auto"
      },
      "outputs": [],
      "source": "spark.read.options(Map(\"inferSchema\"-\u003e\"true\",\"sep\"-\u003e\"\\t\",\"header\"-\u003e\"true\",\"nullValue\"-\u003e\".\"))\n    .csv(myFile(\"gencc-submissions_20220728.txt\"))\n    .coalesce(1)\n    .write.mode(\"overwrite\")\n    .parquet(myFile(s\"tables/gencc\"))   \n    \nloadCustomTable(\"gencc\")"
    },
    {
      "cell_type": "code",
      "execution_count": 9,
      "metadata": {
        "autoscroll": "auto"
      },
      "outputs": [],
      "source": "%sql\nselect * from gencc limit 10"
    },
    {
      "cell_type": "code",
      "execution_count": 10,
      "metadata": {},
      "outputs": [],
      "source": "%%sql\n"
    }
  ]
}