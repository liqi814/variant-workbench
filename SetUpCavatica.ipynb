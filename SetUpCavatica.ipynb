﻿{
  "metadata": {
    "name": "SetUpCavatica",
    "kernelspec": {
      "language": "scala",
      "name": "spark2-scala"
    },
    "language_info": {
      "codemirror_mode": "text/x-scala",
      "file_extension": ".scala",
      "mimetype": "text/x-scala",
      "name": "scala",
      "pygments_lexer": "scala"
    }
  },
  "nbformat": 4,
  "nbformat_minor": 2,
  "cells": [
    {
      "cell_type": "code",
      "execution_count": 0,
      "metadata": {
        "autoscroll": "auto"
      },
      "outputs": [],
      "source": "%pyspark\nauth_token_input \u003d z.password(\"Your authentication token\")\nz.put(\"auth_token_shell\", auth_token_input)\n# Input authentication token for Cavatica (masked as a password)"
    },
    {
      "cell_type": "code",
      "execution_count": 1,
      "metadata": {
        "autoscroll": "auto"
      },
      "outputs": [],
      "source": "%sh\ncd ~/.sevenbridges/\nif [[ -e \u0027credentials\u0027 ]]; then mv credentials credentials.bak; fi\ncat \u003c\u003c EOF \u003e credentials\n[default]\napi_endpoint \u003d https://cavatica-api.sbgenomics.com/v2\nauth_token   \u003d {auth_token_shell}\nEOF\n# Create Cavatica credentials"
    },
    {
      "cell_type": "code",
      "execution_count": 2,
      "metadata": {
        "autoscroll": "auto"
      },
      "outputs": [],
      "source": "%sh\ncd ~\nif ! [[ -x \u0027sbfs\u0027 ]]; then curl https://igor.sbgenomics.com/downloads/sbfs/linux-amd64/sbfs -O; chmod 755 sbfs; fi\nls -l sbfs\n# Download sbfs for mounting Cavatica projects"
    },
    {
      "cell_type": "code",
      "execution_count": 3,
      "metadata": {
        "autoscroll": "auto"
      },
      "outputs": [],
      "source": "%sh\ncd ~\n! [[ -x \u0027cavatica\u0027 ]] \u0026\u0026 mkdir ~/cavatica\n[[ \"$(ls -A ~/cavatica)\" ]] || ~/sbfs mount ~/cavatica\necho \u0027Wait until mounting is done ...\u0027\nwhile [[ -e ~/cavatica/mount_status ]]; do sleep 1; done\nls -l ~/cavatica/projects/\n# Create folder cavatica for mounting and mount Cavatica projects"
    },
    {
      "cell_type": "raw",
      "metadata": {
        "format": "text/plain"
      },
      "source": "%sh\n"
    }
  ]
}